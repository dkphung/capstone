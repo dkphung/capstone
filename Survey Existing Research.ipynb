{
 "cells": [
  {
   "cell_type": "markdown",
   "id": "d4ebb3ea",
   "metadata": {},
   "source": [
    "# Existing Project / Research\n",
    "\n",
    "These some of the project create by other people using this dataset. \n",
    "\n",
    "* https://www.kaggle.com/code/azizozmen/heart-failure-predict-8-classification-techniques\n",
    "\n",
    "* https://www.kaggle.com/code/ludovicocuoghi/pytorch-pytorch-lightning-w-optuna-opt\n",
    "\n",
    "* https://www.kaggle.com/code/theayushanand/heart-disease-analysis-the-real-story\n",
    "\n",
    "* https://www.kaggle.com/code/gaganmaahi224/eda-detailed-explanation-of-knn-algorithm\n",
    "\n",
    "* https://www.kaggle.com/code/theayushanand/heart-disease-analysis-the-real-story\n",
    "\n",
    "* https://www.kaggle.com/code/azizozmen/heart-failure-predict-8-classification-techniques\n",
    "\n"
   ]
  },
  {
   "cell_type": "code",
   "execution_count": null,
   "id": "9f7aca5d",
   "metadata": {},
   "outputs": [],
   "source": []
  }
 ],
 "metadata": {
  "kernelspec": {
   "display_name": "Python 3 (ipykernel)",
   "language": "python",
   "name": "python3"
  },
  "language_info": {
   "codemirror_mode": {
    "name": "ipython",
    "version": 3
   },
   "file_extension": ".py",
   "mimetype": "text/x-python",
   "name": "python",
   "nbconvert_exporter": "python",
   "pygments_lexer": "ipython3",
   "version": "3.9.7"
  }
 },
 "nbformat": 4,
 "nbformat_minor": 5
}
